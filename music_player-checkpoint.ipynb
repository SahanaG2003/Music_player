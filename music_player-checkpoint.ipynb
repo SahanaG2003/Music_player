{
 "cells": [
  {
   "cell_type": "code",
   "execution_count": 1,
   "id": "fd25cb9d",
   "metadata": {},
   "outputs": [
    {
     "name": "stdout",
     "output_type": "stream",
     "text": [
      "pygame 2.5.2 (SDL 2.28.3, Python 3.10.9)\n",
      "Hello from the pygame community. https://www.pygame.org/contribute.html\n"
     ]
    }
   ],
   "source": [
    "import os \n",
    "import pygame\n",
    "from pygame import mixer\n",
    "from tkinter import Tk\n",
    "from tkinter import PhotoImage \n",
    "from tkinter import filedialog\n",
    "from tkinter import Button\n",
    "from tkinter import Frame\n",
    "from tkinter import Label\n",
    "from tkinter import Canvas\n",
    "from tkinter import Scale\n",
    "from pydub import AudioSegment\n",
    "from PIL import Image "
   ]
  },
  {
   "cell_type": "code",
   "execution_count": 2,
   "id": "b064a2f9",
   "metadata": {},
   "outputs": [],
   "source": [
    "def choose_file():\n",
    "    global file_path\n",
    "    file_path = filedialog.askopenfilename()\n",
    "    play_music()\n",
    "\n",
    "# Function to play music\n",
    "def play_music():\n",
    "    pygame.mixer.init()\n",
    "    pygame.mixer.music.load(file_path)\n",
    "    pygame.mixer.music.play()\n",
    "    \n",
    "def stop_music():\n",
    "    pygame.mixer.music.stop()\n",
    "\n",
    "def pause_music():\n",
    "    pygame.mixer.music.pause()\n",
    "\n",
    "def resume_music():\n",
    "    pygame.mixer.music.unpause()\n",
    "\n",
    "    \n",
    "def next_song():\n",
    "    pygame.mixer.music.stop()\n",
    "    # Load the next song in the playlist (you need to implement your playlist logic)\n",
    "    play_music()\n",
    "\n",
    "def change_volume(val):\n",
    "    volume = int(val) / 100.0\n",
    "    pygame.mixer.music.set_volume(volume)"
   ]
  },
  {
   "cell_type": "code",
   "execution_count": null,
   "id": "259a7cf0",
   "metadata": {
    "scrolled": false
   },
   "outputs": [
    {
     "name": "stderr",
     "output_type": "stream",
     "text": [
      "Exception in Tkinter callback\n",
      "Traceback (most recent call last):\n",
      "  File \"C:\\Users\\Sahana\\anaconda3\\lib\\tkinter\\__init__.py\", line 1921, in __call__\n",
      "    return self.func(*args)\n",
      "  File \"C:\\Users\\Sahana\\AppData\\Local\\Temp\\ipykernel_8432\\1256841129.py\", line 29, in change_volume\n",
      "    pygame.mixer.music.set_volume(volume)\n",
      "pygame.error: mixer not initialized\n"
     ]
    }
   ],
   "source": [
    "root=Tk()\n",
    "root.title(\"MUSIC PLAYER\")\n",
    "root.geometry(\"485x700+290+10\")\n",
    "root.configure(background=\"#999999\")\n",
    "#root.resizable(False,False)\n",
    "\n",
    "lower_frame = Frame(root,bg ='#444444',width=485, height=180)\n",
    "lower_frame.place(x=0, y=400)\n",
    "#img = Image.open(\"music.jpg\")\n",
    "#img.save(\"music.gif\", \"GIF\")\n",
    "#bg_image = PhotoImage(file=\"music.gif\")\n",
    "#canvas = Canvas(root, width=485, height=700)\n",
    "#canvas.pack()\n",
    "#canvas.create_image(0, 0, anchor=\"nw\", image=bg_image)\n",
    "#label = Label(root, image=bg_image)\n",
    "#label.pack()\n",
    "\n",
    "#image_icon = PhotoImage(file=\"music.gif\")\n",
    "\n",
    "#label = Label(canvas, image=image_icon)\n",
    "#label.image = image_icon\n",
    "#label.place(x=10, y=10)\n",
    "\n",
    "select_button = Button(root, text=\"Select Music File\", command=choose_file)\n",
    "select_button.pack(side=\"left\", padx=10, pady=120)\n",
    "\n",
    "next_button = Button(root, text=\"Next Song\", command=next_song)\n",
    "next_button.pack(side=\"left\", padx=10, pady=120)\n",
    "\n",
    "play_button = Button(root, text=\"Play\", command=play_music)\n",
    "play_button.pack(side=\"left\", padx=10, pady=120)\n",
    "\n",
    "stop_button = Button(root, text=\"Stop\", command=stop_music)\n",
    "stop_button.pack(side=\"left\", padx=10, pady=120)\n",
    "\n",
    "pause_button = Button(root, text=\"Pause\", command=pause_music)\n",
    "pause_button.pack(side=\"left\", padx=10, pady=120)\n",
    "\n",
    "resume_button = Button(root, text=\"Resume\", command=resume_music)\n",
    "resume_button.pack(side=\"left\", padx=10, pady=120)\n",
    "\n",
    "volume_label = Label(root, text=\"Volume:\")\n",
    "volume_label.pack(side=\"left\", padx=10, pady=120)\n",
    "\n",
    "volume_scale = Scale(root, from_=0, to=100, orient=\"horizontal\", command=change_volume)\n",
    "volume_scale.set(50)  # Set initial volume to 50%\n",
    "volume_scale.pack(side=\"left\", padx=10, pady=120)\n",
    "\n",
    "root.mainloop()"
   ]
  },
  {
   "cell_type": "code",
   "execution_count": null,
   "id": "d302f1b0",
   "metadata": {},
   "outputs": [],
   "source": []
  }
 ],
 "metadata": {
  "kernelspec": {
   "display_name": "Python 3 (ipykernel)",
   "language": "python",
   "name": "python3"
  },
  "language_info": {
   "codemirror_mode": {
    "name": "ipython",
    "version": 3
   },
   "file_extension": ".py",
   "mimetype": "text/x-python",
   "name": "python",
   "nbconvert_exporter": "python",
   "pygments_lexer": "ipython3",
   "version": "3.10.9"
  }
 },
 "nbformat": 4,
 "nbformat_minor": 5
}
